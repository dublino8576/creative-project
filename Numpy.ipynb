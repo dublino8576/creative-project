{
  "nbformat": 4,
  "nbformat_minor": 0,
  "metadata": {
    "colab": {
      "provenance": [],
      "authorship_tag": "ABX9TyMn7bJRvdP1c0l6aeXvHEys",
      "include_colab_link": true
    },
    "kernelspec": {
      "name": "python3",
      "display_name": "Python 3"
    },
    "language_info": {
      "name": "python"
    }
  },
  "cells": [
    {
      "cell_type": "markdown",
      "metadata": {
        "id": "view-in-github",
        "colab_type": "text"
      },
      "source": [
        "<a href=\"https://colab.research.google.com/github/dublino8576/creative-project/blob/main/Numpy.ipynb\" target=\"_parent\"><img src=\"https://colab.research.google.com/assets/colab-badge.svg\" alt=\"Open In Colab\"/></a>"
      ]
    },
    {
      "cell_type": "code",
      "execution_count": 3,
      "metadata": {
        "colab": {
          "base_uri": "https://localhost:8080/"
        },
        "id": "VXe6bWPZtiYp",
        "outputId": "158c320b-da92-4feb-d1df-8864b12f67c7"
      },
      "outputs": [
        {
          "output_type": "stream",
          "name": "stdout",
          "text": [
            "This is a list:  [1, 2, 3, 4, 5]\n",
            "This is an array [1 2 3 4 5]\n"
          ]
        }
      ],
      "source": [
        "#HOW TO CREATE A NUMPY ARRAY WITH A PYTHON LIST\n",
        "numbers = [1,2,3,4,5]\n",
        "print(\"This is a list: \", numbers)\n",
        "\n",
        "import numpy as np\n",
        "array = np.array(numbers)\n",
        "print(\"This is an array\" ,array)\n",
        "\n",
        "#the reason array doesnt have commas is that is quicker to do calculations\n"
      ]
    },
    {
      "cell_type": "code",
      "source": [
        "doubled = array * 2\n",
        "print(doubled)\n",
        "#much quicker to do it with array since you don't need a for loop or a map"
      ],
      "metadata": {
        "colab": {
          "base_uri": "https://localhost:8080/"
        },
        "id": "0JC8o9cLvUNo",
        "outputId": "e3035a89-5f24-4e8d-a3f7-19d8dcb2795f"
      },
      "execution_count": 4,
      "outputs": [
        {
          "output_type": "stream",
          "name": "stdout",
          "text": [
            "[ 2  4  6  8 10]\n"
          ]
        }
      ]
    },
    {
      "cell_type": "code",
      "source": [
        "#USE BUILT-IN NUMPY METHODS TO MAKE AN ARRAY TOO\n",
        "zeros = np.zeros((2, 3))\n",
        "print(\"Print multidimentional array: 3 zeros in 2 nested arrays\", zeros)\n",
        "\n",
        "ones = np.ones((3))\n",
        "print(\"ones\", ones)"
      ],
      "metadata": {
        "colab": {
          "base_uri": "https://localhost:8080/"
        },
        "id": "Z6IICIQfvwGV",
        "outputId": "0feff048-0e16-4722-ea92-90c790ee9c17"
      },
      "execution_count": 7,
      "outputs": [
        {
          "output_type": "stream",
          "name": "stdout",
          "text": [
            "Print multidimentional array: 3 zeros in 2 nested arrays [[0. 0. 0.]\n",
            " [0. 0. 0.]]\n",
            "ones [1. 1. 1.]\n"
          ]
        }
      ]
    },
    {
      "cell_type": "code",
      "source": [
        "#start point, endpoint, step\n",
        "range_array = np.arange(0, 10, 2)\n",
        "print(\"range: \", range_array)"
      ],
      "metadata": {
        "colab": {
          "base_uri": "https://localhost:8080/"
        },
        "id": "YXg6y53PwnQ4",
        "outputId": "0705c037-6b19-49cb-c0f4-ac2422755db8"
      },
      "execution_count": 10,
      "outputs": [
        {
          "output_type": "stream",
          "name": "stdout",
          "text": [
            "range:  [0 2 4 6 8]\n"
          ]
        }
      ]
    },
    {
      "cell_type": "code",
      "source": [
        "range_of_9 = np.arange(0, 10, 1)\n",
        "print(range_of_9)"
      ],
      "metadata": {
        "colab": {
          "base_uri": "https://localhost:8080/"
        },
        "id": "I3RA_edExCUI",
        "outputId": "444eb175-e4d3-4af7-8aff-3036aad4c2b8"
      },
      "execution_count": 12,
      "outputs": [
        {
          "output_type": "stream",
          "name": "stdout",
          "text": [
            "[0 1 2 3 4 5 6 7 8 9]\n"
          ]
        }
      ]
    },
    {
      "cell_type": "code",
      "source": [
        "fours = np.ones((4, 4))\n",
        "#make a matrix\n",
        "print(fours) '''[[1. 1. 1. 1.]\n",
        " [1. 1. 1. 1.]\n",
        " [1. 1. 1. 1.]\n",
        " [1. 1. 1. 1.]]'''"
      ],
      "metadata": {
        "colab": {
          "base_uri": "https://localhost:8080/"
        },
        "id": "16TrKrv7xoo5",
        "outputId": "302b30bd-410a-4f0e-e051-9ec342687715"
      },
      "execution_count": 16,
      "outputs": [
        {
          "output_type": "stream",
          "name": "stdout",
          "text": [
            "[[1. 1. 1. 1.]\n",
            " [1. 1. 1. 1.]\n",
            " [1. 1. 1. 1.]\n",
            " [1. 1. 1. 1.]]\n"
          ]
        }
      ]
    },
    {
      "cell_type": "code",
      "source": [],
      "metadata": {
        "id": "pc-h4-f5zoKW"
      },
      "execution_count": null,
      "outputs": []
    },
    {
      "cell_type": "code",
      "source": [
        "#CREATE 5 EVENLY SPACED NUMBERS BETWEEN 0 AND 1 USING np.linspace\n",
        "linespace = np.linspace(0, 1, 5)\n",
        "print(linespace)\n",
        "#Return evenly spaced numbers over a specified interval.\n",
        "#Returns num evenly spaced samples, calculated over the interval [start, stop].\n",
        "#The endpoint of the interval can optionally be excluded."
      ],
      "metadata": {
        "colab": {
          "base_uri": "https://localhost:8080/"
        },
        "id": "ftkjLy-zyElt",
        "outputId": "7a03980f-90cd-4622-ad25-bebd3e360bcc"
      },
      "execution_count": 18,
      "outputs": [
        {
          "output_type": "stream",
          "name": "stdout",
          "text": [
            "[0.   0.25 0.5  0.75 1.  ]\n"
          ]
        }
      ]
    },
    {
      "cell_type": "code",
      "source": [
        "mat = np.array([\n",
        "    [1,2,3],\n",
        "    [4,5,6],\n",
        "    [7,8,9]\n",
        "])\n",
        "#created a multidimentional array, matrix\n",
        "#try to print the element at row1 column2\n",
        "print(mat[0,1])\n",
        "print(\"second number from every row\", mat[:, 1]) #colon picks up everything in that specific row\n",
        "#[2 5 8]\n",
        "print(\"every row and choose the third number\", mat[:, 2])\n",
        "#[3 6 9]"
      ],
      "metadata": {
        "colab": {
          "base_uri": "https://localhost:8080/"
        },
        "id": "YM8SHFUozqAe",
        "outputId": "60c2f2dd-3cd5-492e-df48-800e7d85f1db"
      },
      "execution_count": 23,
      "outputs": [
        {
          "output_type": "stream",
          "name": "stdout",
          "text": [
            "2\n",
            "second number from every row [2 5 8]\n",
            "every row and choose the third number [3 6 9]\n"
          ]
        }
      ]
    },
    {
      "cell_type": "code",
      "source": [
        "'''Create an array of numbers 1–10. Slice out the first 5.\n",
        "From the matrix above, extract the first two rows.\n",
        "From the matrix above, extract the bottom-right 2×2 sub-matrix.'''\n",
        "\n",
        "numbers = np.arange(1, 11)\n",
        "print(numbers)\n",
        "print(numbers[:5]) #[1 2 3 4 5]\n",
        "\n",
        "first_two_rows = mat[:2, :]\n",
        "print(\"first two rows\", first_two_rows)\n",
        "\n",
        "bottom_right = mat[1:, 1:]\n",
        "print(\"bottom two\", bottom_right)\n"
      ],
      "metadata": {
        "colab": {
          "base_uri": "https://localhost:8080/"
        },
        "id": "VfkKMBBr0MlJ",
        "outputId": "df8b7d07-7013-47b4-df56-80b6eacbf76f"
      },
      "execution_count": 36,
      "outputs": [
        {
          "output_type": "stream",
          "name": "stdout",
          "text": [
            "[ 1  2  3  4  5  6  7  8  9 10]\n",
            "[1 2 3 4 5]\n",
            "first two rows [[1 2 3]\n",
            " [4 5 6]]\n",
            "bottom two [[5 6]\n",
            " [8 9]]\n"
          ]
        }
      ]
    },
    {
      "cell_type": "code",
      "source": [
        "array_6  = np.arange(12)\n",
        "print(array_6)"
      ],
      "metadata": {
        "colab": {
          "base_uri": "https://localhost:8080/"
        },
        "id": "jz73CVtB5V-4",
        "outputId": "e6ae9ca4-b4b8-4e21-a732-1f2c31ce5cb8"
      },
      "execution_count": 37,
      "outputs": [
        {
          "output_type": "stream",
          "name": "stdout",
          "text": [
            "[ 0  1  2  3  4  5  6  7  8  9 10 11]\n"
          ]
        }
      ]
    },
    {
      "cell_type": "code",
      "source": [
        "print(\"shape\", array_6.shape) #shape (12,)\n"
      ],
      "metadata": {
        "colab": {
          "base_uri": "https://localhost:8080/"
        },
        "id": "81bnzkK257Ax",
        "outputId": "105ecfde-2e26-4143-8b5f-e58dbaf7c31b"
      },
      "execution_count": 38,
      "outputs": [
        {
          "output_type": "stream",
          "name": "stdout",
          "text": [
            "shape (12,)\n"
          ]
        }
      ]
    },
    {
      "cell_type": "code",
      "source": [
        "print(\"dimensions\", array_6.ndim) #1dimensional array has dimension 1"
      ],
      "metadata": {
        "colab": {
          "base_uri": "https://localhost:8080/"
        },
        "id": "QGl96cTP6Lnx",
        "outputId": "515ed18d-9c39-4462-f925-2364f2005f54"
      },
      "execution_count": 41,
      "outputs": [
        {
          "output_type": "stream",
          "name": "stdout",
          "text": [
            "dimensions 1\n"
          ]
        }
      ]
    },
    {
      "cell_type": "code",
      "source": [
        "print(\"size\", array_6.size) #12 indexes\n"
      ],
      "metadata": {
        "colab": {
          "base_uri": "https://localhost:8080/"
        },
        "id": "6moO2yTU6XuJ",
        "outputId": "8fd446cb-8464-48b6-aad5-9f4d42134a1e"
      },
      "execution_count": 40,
      "outputs": [
        {
          "output_type": "stream",
          "name": "stdout",
          "text": [
            "size 12\n"
          ]
        }
      ]
    },
    {
      "cell_type": "code",
      "source": [
        "#RESHAPING AN ARRAY\n",
        "array_7= np.arange(1,13)\n",
        "print(array_7)\n",
        "#[ 1  2  3  4  5  6  7  8  9 10 11 12]\n",
        "\n",
        "reshaped = array_7.reshape(3, 4)\n",
        "print(\"reshaped\", reshaped) #[[ 1  2  3  4]\n",
        " #[ 5  6  7  8]\n",
        " #[ 9 10 11 12]]\n",
        "\n",
        " #we can also flatten the array with RAVEL()\n",
        "flat = reshaped.ravel()\n",
        "print(\"flattened\", flat) #back to 1 dimension"
      ],
      "metadata": {
        "colab": {
          "base_uri": "https://localhost:8080/"
        },
        "id": "WOS92CzI6nlQ",
        "outputId": "bc16afec-e338-4f9d-fa2c-8fc7688d6071"
      },
      "execution_count": 45,
      "outputs": [
        {
          "output_type": "stream",
          "name": "stdout",
          "text": [
            "[ 1  2  3  4  5  6  7  8  9 10 11 12]\n",
            "reshaped [[ 1  2  3  4]\n",
            " [ 5  6  7  8]\n",
            " [ 9 10 11 12]]\n",
            "flattened [ 1  2  3  4  5  6  7  8  9 10 11 12]\n"
          ]
        }
      ]
    },
    {
      "cell_type": "code",
      "source": [
        "'''Reshape the array of numbers 1–12 into a 4×3 matrix. <br>\n",
        "Extract the middle two columns.<br>\n",
        "Flatten the result into 1D.'''\n",
        "#1\n",
        "numbers = np.arange(1, 13)\n",
        "print(numbers)\n",
        "#reshape\n",
        "reshaped_1 = numbers.reshape(4, 3)\n",
        "print(reshaped_1)\n",
        "\n",
        "#2\n",
        "two_middle_columns = reshaped_1[: , 1:3]\n",
        "print(\"extract middle 2 colums\", two_middle_columns)\n",
        "\n",
        "#3\n",
        "flatten_two_columns = two_middle_columns.ravel()\n",
        "print(\"flatten\", flatten_two_columns)"
      ],
      "metadata": {
        "colab": {
          "base_uri": "https://localhost:8080/"
        },
        "id": "pT3sVsrO7ceu",
        "outputId": "537f3da3-71ed-4690-8030-ed7c506afca3"
      },
      "execution_count": 55,
      "outputs": [
        {
          "output_type": "stream",
          "name": "stdout",
          "text": [
            "[ 1  2  3  4  5  6  7  8  9 10 11 12]\n",
            "[[ 1  2  3]\n",
            " [ 4  5  6]\n",
            " [ 7  8  9]\n",
            " [10 11 12]]\n",
            "extract middle 2 colums [[ 2  3]\n",
            " [ 5  6]\n",
            " [ 8  9]\n",
            " [11 12]]\n",
            "flatten [ 2  3  5  6  8  9 11 12]\n"
          ]
        }
      ]
    },
    {
      "cell_type": "code",
      "source": [
        "#ELEMENT OPERATIONS\n",
        "a = np.array([1,2,3,4])\n",
        "b=np.array([10,20,30,40])\n",
        "print(a)\n",
        "print(b)\n",
        "\n",
        "#no commas with np array allows us to perform different operations\n",
        "\n",
        "#ADD both arrays together\n",
        "print(\"A + B\", a + b) #each index of one array adds with its correspective of the other array\n",
        "#[11 22 33 44]\n",
        "\n",
        "#SUBTRACT, MULTIPLY, DIVIDE can also be done\n",
        "print(\"a divided by b\", a/b) #[0.1 0.1 0.1 0.1]\n",
        "\n",
        "#SQUARE ROOT\n",
        "print(\"square root of a \", np.sqrt(a)) #[1.         1.41421356 1.73205081 2.        ]\n",
        "\n",
        "#exponential\n",
        "print(\"expo of b\", np.exp(b)) #[2.20264658e+04 4.85165195e+08 1.06864746e+13 2.35385267e+17]\n",
        "\n",
        "#Create two arrays [5, 10, 15] and [2, 4, 6]. Perform addition, subtraction, multiplication, and division.\n",
        "#Compute the cube (**3) of the first array.\n",
        "#1\n",
        "c = np.array([5,10,15])\n",
        "print(c)\n",
        "d = np.array([2,4,6])\n",
        "print(d)\n",
        "\n",
        "print(\"addition\", c + d)\n",
        "print(\"substraction\", c - d)\n",
        "print(\"multiplication\", c * d)\n",
        "print(\"division\", c / d)\n",
        "\n",
        "#2\n",
        "print(\"cube root\", np.cbrt(c) )\n",
        "print(\"cube\", c**3)\n"
      ],
      "metadata": {
        "colab": {
          "base_uri": "https://localhost:8080/"
        },
        "id": "1-m6kr_lC-Mm",
        "outputId": "ed611fe8-b244-4dbe-d7cf-451ac1814264"
      },
      "execution_count": 68,
      "outputs": [
        {
          "output_type": "stream",
          "name": "stdout",
          "text": [
            "[1 2 3 4]\n",
            "[10 20 30 40]\n",
            "A + B [11 22 33 44]\n",
            "a divided by b [0.1 0.1 0.1 0.1]\n",
            "square root of a  [1.         1.41421356 1.73205081 2.        ]\n",
            "expo of b [2.20264658e+04 4.85165195e+08 1.06864746e+13 2.35385267e+17]\n",
            "[ 5 10 15]\n",
            "[2 4 6]\n",
            "addition [ 7 14 21]\n",
            "substraction [3 6 9]\n",
            "multiplication [10 40 90]\n",
            "division [2.5 2.5 2.5]\n",
            "cube root [1.70997595 2.15443469 2.46621207]\n",
            "cube [ 125 1000 3375]\n"
          ]
        }
      ]
    },
    {
      "cell_type": "code",
      "source": [
        "#BROADCASTING\n",
        "\n",
        "Broad = np.array([1,2,3,4,5])\n",
        "\n",
        "print(\"array plus 10 to each item\", Broad + 10)\n",
        "#it stretches 10 across each item. it creates a new array under the hood\n",
        "#that is filled with 10s [10,10,10,10,10]\n",
        "#[11 12 13 14 15]\n",
        "#same with multiplications and other operations\n",
        "\n",
        "arr_2d = np.array([[1,2,3], [4,5,6]])\n",
        "print(\"full 2 dimensional array\", arr_2d)\n",
        "\n",
        "#I want to add numbers in array 10, 20, 30 to my existing arrays\n",
        "#10 adds to indexes of first col, 20 adds to second col\n",
        "\n",
        "print(\"add the array [10,20,30]\", np.array([10,20,30]) + arr_2d)\n",
        "#[10,20,30] [[11 22 33] [14 25 36]] it stretches the first array out\n",
        "#creates under the hood [10,20,30][10,20,30]"
      ],
      "metadata": {
        "colab": {
          "base_uri": "https://localhost:8080/"
        },
        "id": "sKoHfPpwG9MX",
        "outputId": "076424c4-cc51-45db-c7dc-ec5a807b6d24"
      },
      "execution_count": 71,
      "outputs": [
        {
          "output_type": "stream",
          "name": "stdout",
          "text": [
            "array plus 10 to each item [11 12 13 14 15]\n",
            "full 2 dimensional array [[1 2 3]\n",
            " [4 5 6]]\n",
            "add the array [10,20,30] [[11 22 33]\n",
            " [14 25 36]]\n"
          ]
        }
      ]
    },
    {
      "cell_type": "code",
      "source": [
        "'''Multiply an array [2, 4, 6, 8] by 0.5.\n",
        "Create a 3×3 matrix and add np.array([1, 2, 3]) to it.\n",
        "Create a 2×3 matrix and add 10 to all elements.'''\n",
        "\n",
        "#1\n",
        "\n",
        "arr_3 = np.array([2,4,6,8])\n",
        "print(arr_3)\n",
        "multiply = arr_3 * 0.5\n",
        "print(\"multiply\", multiply)\n",
        "\n",
        "#2\n",
        "\n",
        "matrix_1 = np.arange(1,10)\n",
        "print(matrix_1)\n",
        "reshape_1 = matrix_1.reshape(3,3)\n",
        "print(\"reshape\", reshape_1)\n",
        "add_1 = reshape_1 + np.array([1,2,3])\n",
        "print(\"add array\", add_1)\n",
        "\n",
        "#3\n",
        "\n",
        "matrix_2 = np.arange(1,7)\n",
        "print(matrix_2)\n",
        "reshape_2 = matrix_2.reshape(2,3)\n",
        "print(\"reshape 2x3\", reshape_2)\n",
        "print(reshape_2 + 10 )"
      ],
      "metadata": {
        "colab": {
          "base_uri": "https://localhost:8080/"
        },
        "id": "nFEk5o46IyjM",
        "outputId": "04bd3a73-2ac0-4a3c-f83f-76cf1e544e4a"
      },
      "execution_count": 87,
      "outputs": [
        {
          "output_type": "stream",
          "name": "stdout",
          "text": [
            "[2 4 6 8]\n",
            "multiply [1. 2. 3. 4.]\n",
            "[1 2 3 4 5 6 7 8 9]\n",
            "reshape [[1 2 3]\n",
            " [4 5 6]\n",
            " [7 8 9]]\n",
            "add array [[ 2  4  6]\n",
            " [ 5  7  9]\n",
            " [ 8 10 12]]\n",
            "[1 2 3 4 5 6]\n",
            "reshape 2x3 [[1 2 3]\n",
            " [4 5 6]]\n",
            "[[11 12 13]\n",
            " [14 15 16]]\n"
          ]
        }
      ]
    },
    {
      "cell_type": "code",
      "source": [
        "import time\n",
        "\n",
        "#python list compared to numpy array\n",
        "\n",
        "size = 1_000_000\n",
        "\n",
        "list_1 = list(range(size))\n",
        "start = time.time()\n",
        "list_2 = [x * 2 for x in list_1]\n",
        "print(\"Python list time: \", time.time() - start)\n",
        "numpy_1 = np.arange(size)\n",
        "start_1 = time.time()\n",
        "numpy_2 = numpy_1 * 2\n",
        "print(\"Numpy array time: \", time.time() - start_1)\n",
        "\n",
        "#time for python is much longer to compile"
      ],
      "metadata": {
        "colab": {
          "base_uri": "https://localhost:8080/"
        },
        "id": "5Jk5YOfmN3M-",
        "outputId": "82c7d8fa-f149-4095-c560-7fa9d9020d3b"
      },
      "execution_count": 92,
      "outputs": [
        {
          "output_type": "stream",
          "name": "stdout",
          "text": [
            "Python list time:  0.05670356750488281\n",
            "Numpy array time:  0.0015110969543457031\n"
          ]
        }
      ]
    },
    {
      "cell_type": "code",
      "source": [
        "#USE RANDOM GENERATOR ON NUMPY\n",
        "#Random numbers generated from the random will be an example of a dice role\n",
        "\n",
        "dice = np.random.randint(1,7, size=10)\n",
        "\n",
        "print(\"dice rolls\", dice)\n",
        "\n",
        "rand_floats = np.random.rand(5)\n",
        "print(\"creates random floats from 0 to 1\", rand_floats)\n",
        "\n",
        "#random normal distribution\n",
        "rand_dist = np.random.randn(5)\n",
        "print(rand_dist)\n"
      ],
      "metadata": {
        "colab": {
          "base_uri": "https://localhost:8080/"
        },
        "id": "upgSpcGaO1Xs",
        "outputId": "4da27ee1-b1d5-4afe-b971-6bac2deb9dbf"
      },
      "execution_count": 96,
      "outputs": [
        {
          "output_type": "stream",
          "name": "stdout",
          "text": [
            "dice rolls [2 5 3 1 6 1 6 6 3 5]\n",
            "creates random floats from 0 to 1 [0.38697669 0.24538057 0.07200495 0.58261583 0.53348515]\n",
            "[ 1.03534729 -0.00651276 -0.85704553  0.52291754 -2.72191425]\n"
          ]
        }
      ]
    },
    {
      "cell_type": "code",
      "source": [
        "'''Generate 20 dice rolls and find the min and max.\n",
        "Create an array of 10 random floats between 0 and 10. - Why do we have to use uniform\n",
        "Generate 1000 samples from a normal distribution and inspect the first 10.'''\n",
        "\n",
        "#1\n",
        "dice_2 = np.random.randint(1,7, size=20)\n",
        "print(\"prints 20 random dice rolls that are integer in range 1-6\", dice_2)\n",
        "print(\"max value\", dice_2.max())\n",
        "print(\"min value\", dice_2.min())\n",
        "\n",
        "#2\n",
        "#we have to use uniform otherwise we get floats from 0 to 1\n",
        "rand_floats_2 = np.random.uniform(low=0.0, high=10.0, size=10)\n",
        "print(\"uniform\", rand_floats_2)\n",
        "\n",
        "#3\n",
        "rand_dist_2 = np.random.randn(1000)\n",
        "print(\"sample of 10\", rand_dist_2[:10])\n"
      ],
      "metadata": {
        "colab": {
          "base_uri": "https://localhost:8080/"
        },
        "id": "nJ59El2umEPs",
        "outputId": "31e8df1c-6d6e-4c42-b13a-2f7feb1652e9"
      },
      "execution_count": 106,
      "outputs": [
        {
          "output_type": "stream",
          "name": "stdout",
          "text": [
            "prints 20 random dice rolls that are integer in range 1-6 [6 5 6 4 3 2 5 6 5 4 3 1 6 6 1 6 5 3 6 4]\n",
            "max value 6\n",
            "min value 1\n",
            "uniform [4.07780285 6.82033546 3.94852323 2.01785329 4.22532521 1.31059518\n",
            " 9.68075073 3.58697185 3.61200843 9.03836944]\n",
            "sample of 10 [ 0.49500911  1.31596778 -1.52075029 -0.62786359 -1.18413724 -1.25534096\n",
            "  0.6634664   2.60099402 -1.72199117 -1.43072952]\n"
          ]
        }
      ]
    },
    {
      "cell_type": "code",
      "source": [
        "#BASIC STATISTIC\n",
        "stats_arr = np.array([1,2,3,4,5,6,7,8,9,10])\n",
        "\n",
        "#sum: sum the whole elements of the array\n",
        "print(\"sum\", np.sum(stats_arr))\n",
        "\n",
        "#mean\n",
        "print(\"mean\", np.mean(stats_arr))\n",
        "\n",
        "#median\n",
        "print(\"median\", np.median(stats_arr))\n",
        "\n",
        "#standard deviation (amount of spread of data)\n",
        "print(\"std\", np.std(stats_arr))"
      ],
      "metadata": {
        "colab": {
          "base_uri": "https://localhost:8080/"
        },
        "id": "59Ma7OIXq4pq",
        "outputId": "3e848d79-fb27-4a26-c987-cdf17bfe29ab"
      },
      "execution_count": 111,
      "outputs": [
        {
          "output_type": "stream",
          "name": "stdout",
          "text": [
            "sum 55\n",
            "mean 5.5\n",
            "median 5.5\n",
            "std 2.8722813232690143\n"
          ]
        }
      ]
    },
    {
      "cell_type": "code",
      "source": [
        "'''Compute statistics for the dice rolls you generated and print them\n",
        "Create an array of 50 random integers between 10 and 100 and compute mean, median, and standard deviation, print them all out'''\n",
        "\n",
        "#1\n",
        "print(dice_2)\n",
        "print(\"sum\", np.sum(dice_2))\n",
        "print(\"mean\", np.mean(dice_2))\n",
        "print(\"median\", np.median(dice_2))\n",
        "print(\"std\", np.std(dice_2))\n",
        "\n",
        "#2\n",
        "randy = np.random.randint(10, 101, 50)\n",
        "print(\"rand int\", randy)\n",
        "print(\"mean\", np.mean(randy))\n",
        "print(\"median\", np.median(randy))\n",
        "print(\"standard deviation\", np.std(randy)) #approximately 1/4 of current range, in this case 26"
      ],
      "metadata": {
        "colab": {
          "base_uri": "https://localhost:8080/"
        },
        "id": "9KleAhSxr6_L",
        "outputId": "78995fba-c6d9-4451-f509-7b4f7f692d3a"
      },
      "execution_count": 123,
      "outputs": [
        {
          "output_type": "stream",
          "name": "stdout",
          "text": [
            "[6 5 6 4 3 2 5 6 5 4 3 1 6 6 1 6 5 3 6 4]\n",
            "sum 87\n",
            "mean 4.35\n",
            "median 5.0\n",
            "std 1.6515144564913746\n",
            "rand int [ 89  35  87 100  39  39  87  28  35  10  90  16  19  96  78  16  97  88\n",
            "  44  60  70  37  47  19  43  84  61  27  89  10  59  12  23  89  24  92\n",
            "  62  34  67  85  37  68  46  30  28  41  43  35  69  81]\n",
            "mean 53.3\n",
            "median 45.0\n",
            "standard deviation 27.664598316259717\n"
          ]
        }
      ]
    },
    {
      "cell_type": "code",
      "source": [
        "#we can stack something vertically and horizontally\n",
        "stack_1 = np.array([1,2,3])\n",
        "stack_2=np.array([4,5,6])\n",
        "\n",
        "vstacked = np.vstack([stack_1, stack_2])\n",
        "print(vstacked) #[[1 2 3]\n",
        "# [4 5 6]]\n",
        "\n",
        "hstacked = np.hstack([stack_1, stack_2])\n",
        "print(hstacked) #[1 2 3 4 5 6]"
      ],
      "metadata": {
        "colab": {
          "base_uri": "https://localhost:8080/"
        },
        "id": "5zV6xv16use1",
        "outputId": "094317e4-6849-450f-ea68-ff563b971f88"
      },
      "execution_count": 127,
      "outputs": [
        {
          "output_type": "stream",
          "name": "stdout",
          "text": [
            "[[1 2 3]\n",
            " [4 5 6]]\n",
            "[1 2 3 4 5 6]\n"
          ]
        }
      ]
    },
    {
      "cell_type": "code",
      "source": [
        "'''Create a 1D array of 16 random integers and reshape it to 4×4.\n",
        "Create two new arrays manually using np.array. Stack them two 2×2 arrays both vertically and horizontally.\n",
        "Generate 2 sets of 5 dice rolls. Stack them into a 2×5 array.'''\n",
        "\n",
        "#1\n",
        "arr_1d = np.random.randint(1, 24, 16).reshape(4,4)\n",
        "print(arr_1d)\n",
        "\n",
        "#2\n",
        "manual_1 = np.array([1,2])\n",
        "manual_2 = np.array([3,4])\n",
        "v_stack2 = np.vstack([manual_1, manual_2])\n",
        "print(\"vertical stack\", v_stack2 )\n",
        "h_stack2 = np.hstack([manual_1, manual_2])\n",
        "print(\"horizontal stack\", h_stack2)\n",
        "\n",
        "#3\n",
        "dice_3 = np.random.randint(1,7,5)\n",
        "dice_4 = np.random.randint(1,7,5)\n",
        "v_stack3 = np.vstack([dice_3, dice_4])\n",
        "h_stack3 =np.hstack([dice_3, dice_4])\n",
        "print(dice_3, dice_4)\n",
        "print(\"vstack\", v_stack3)\n",
        "print(\"hstack\", h_stack3)"
      ],
      "metadata": {
        "colab": {
          "base_uri": "https://localhost:8080/"
        },
        "id": "P7bZYuvcvjbc",
        "outputId": "cec6e5f2-35a6-4fa0-bec9-d2421105e56a"
      },
      "execution_count": 134,
      "outputs": [
        {
          "output_type": "stream",
          "name": "stdout",
          "text": [
            "[[ 3 22  5 20]\n",
            " [ 2  3 14 14]\n",
            " [22 16 20  7]\n",
            " [20  7  6  8]]\n",
            "vertical stack [[1 2]\n",
            " [3 4]]\n",
            "horizontal stack [1 2 3 4]\n",
            "[2 6 1 3 1] [2 3 3 3 3]\n",
            "vstack [[2 6 1 3 1]\n",
            " [2 3 3 3 3]]\n",
            "hstack [2 6 1 3 1 2 3 3 3 3]\n"
          ]
        }
      ]
    }
  ]
}